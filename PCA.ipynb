{
 "cells": [
  {
   "cell_type": "code",
   "execution_count": 1,
   "metadata": {},
   "outputs": [],
   "source": [
    "import numpy as np\n",
    "import pandas as pd\n",
    "from sklearn.preprocessing import StandardScaler"
   ]
  },
  {
   "cell_type": "code",
   "execution_count": 2,
   "metadata": {},
   "outputs": [
    {
     "data": {
      "text/html": [
       "<div>\n",
       "<style scoped>\n",
       "    .dataframe tbody tr th:only-of-type {\n",
       "        vertical-align: middle;\n",
       "    }\n",
       "\n",
       "    .dataframe tbody tr th {\n",
       "        vertical-align: top;\n",
       "    }\n",
       "\n",
       "    .dataframe thead th {\n",
       "        text-align: right;\n",
       "    }\n",
       "</style>\n",
       "<table border=\"1\" class=\"dataframe\">\n",
       "  <thead>\n",
       "    <tr style=\"text-align: right;\">\n",
       "      <th></th>\n",
       "      <th>X</th>\n",
       "      <th>Y</th>\n",
       "      <th>month</th>\n",
       "      <th>day</th>\n",
       "      <th>FFMC</th>\n",
       "      <th>DMC</th>\n",
       "      <th>DC</th>\n",
       "      <th>ISI</th>\n",
       "      <th>temp</th>\n",
       "      <th>RH</th>\n",
       "      <th>wind</th>\n",
       "      <th>rain</th>\n",
       "      <th>area</th>\n",
       "    </tr>\n",
       "  </thead>\n",
       "  <tbody>\n",
       "    <tr>\n",
       "      <th>0</th>\n",
       "      <td>7</td>\n",
       "      <td>5</td>\n",
       "      <td>3</td>\n",
       "      <td>6</td>\n",
       "      <td>86.2</td>\n",
       "      <td>26.2</td>\n",
       "      <td>94.3</td>\n",
       "      <td>5.1</td>\n",
       "      <td>8.2</td>\n",
       "      <td>51</td>\n",
       "      <td>6.7</td>\n",
       "      <td>0.0</td>\n",
       "      <td>0.0</td>\n",
       "    </tr>\n",
       "    <tr>\n",
       "      <th>1</th>\n",
       "      <td>7</td>\n",
       "      <td>4</td>\n",
       "      <td>10</td>\n",
       "      <td>3</td>\n",
       "      <td>90.6</td>\n",
       "      <td>35.4</td>\n",
       "      <td>669.1</td>\n",
       "      <td>6.7</td>\n",
       "      <td>18.0</td>\n",
       "      <td>33</td>\n",
       "      <td>0.9</td>\n",
       "      <td>0.0</td>\n",
       "      <td>0.0</td>\n",
       "    </tr>\n",
       "    <tr>\n",
       "      <th>2</th>\n",
       "      <td>7</td>\n",
       "      <td>4</td>\n",
       "      <td>10</td>\n",
       "      <td>7</td>\n",
       "      <td>90.6</td>\n",
       "      <td>43.7</td>\n",
       "      <td>686.9</td>\n",
       "      <td>6.7</td>\n",
       "      <td>14.6</td>\n",
       "      <td>33</td>\n",
       "      <td>1.3</td>\n",
       "      <td>0.0</td>\n",
       "      <td>0.0</td>\n",
       "    </tr>\n",
       "    <tr>\n",
       "      <th>3</th>\n",
       "      <td>8</td>\n",
       "      <td>6</td>\n",
       "      <td>3</td>\n",
       "      <td>6</td>\n",
       "      <td>91.7</td>\n",
       "      <td>33.3</td>\n",
       "      <td>77.5</td>\n",
       "      <td>9.0</td>\n",
       "      <td>8.3</td>\n",
       "      <td>97</td>\n",
       "      <td>4.0</td>\n",
       "      <td>0.2</td>\n",
       "      <td>0.0</td>\n",
       "    </tr>\n",
       "    <tr>\n",
       "      <th>4</th>\n",
       "      <td>8</td>\n",
       "      <td>6</td>\n",
       "      <td>3</td>\n",
       "      <td>1</td>\n",
       "      <td>89.3</td>\n",
       "      <td>51.3</td>\n",
       "      <td>102.2</td>\n",
       "      <td>9.6</td>\n",
       "      <td>11.4</td>\n",
       "      <td>99</td>\n",
       "      <td>1.8</td>\n",
       "      <td>0.0</td>\n",
       "      <td>0.0</td>\n",
       "    </tr>\n",
       "  </tbody>\n",
       "</table>\n",
       "</div>"
      ],
      "text/plain": [
       "   X  Y  month  day  FFMC   DMC     DC  ISI  temp  RH  wind  rain  area\n",
       "0  7  5      3    6  86.2  26.2   94.3  5.1   8.2  51   6.7   0.0   0.0\n",
       "1  7  4     10    3  90.6  35.4  669.1  6.7  18.0  33   0.9   0.0   0.0\n",
       "2  7  4     10    7  90.6  43.7  686.9  6.7  14.6  33   1.3   0.0   0.0\n",
       "3  8  6      3    6  91.7  33.3   77.5  9.0   8.3  97   4.0   0.2   0.0\n",
       "4  8  6      3    1  89.3  51.3  102.2  9.6  11.4  99   1.8   0.0   0.0"
      ]
     },
     "execution_count": 2,
     "metadata": {},
     "output_type": "execute_result"
    }
   ],
   "source": [
    "df = pd.read_csv('./dataset/forestfires.csv')\n",
    "df.head()"
   ]
  },
  {
   "cell_type": "code",
   "execution_count": 3,
   "metadata": {},
   "outputs": [
    {
     "data": {
      "text/plain": [
       "(12, 517)"
      ]
     },
     "execution_count": 3,
     "metadata": {},
     "output_type": "execute_result"
    }
   ],
   "source": [
    "#X needs to be tranposed because we want the data points to be the columns and rows to be the feature\n",
    "X = np.transpose(df.iloc[:, :-1].values) #data matrix X, 12 x 517 (12 variables/features with 517 number of data points)\n",
    "label = df.iloc[:, -1].values #the last column of the matrix. 517-vector.\n",
    "# X = StandardScaler().fit_transform(X) #standardize the data\n",
    "X.shape"
   ]
  },
  {
   "cell_type": "code",
   "execution_count": 4,
   "metadata": {},
   "outputs": [],
   "source": [
    "mean_vector = np.mean(X, axis=1)\n",
    "mean_matrix = np.tile(mean_vector, (X.shape[1],1))\n",
    "X = X - mean_matrix.T"
   ]
  },
  {
   "cell_type": "code",
   "execution_count": 5,
   "metadata": {},
   "outputs": [
    {
     "data": {
      "text/plain": [
       "(12, 12)"
      ]
     },
     "execution_count": 5,
     "metadata": {},
     "output_type": "execute_result"
    }
   ],
   "source": [
    "SX = (np.dot(X, X.T))/(X.shape[1])#covariance matrix of X, 12 x 12\n",
    "# SX = np.cov(X)\n",
    "n = SX.shape[0] # dimension of the original space\n",
    "q = 5 #dimension of the lower-dimensional subspace\n",
    "SX.shape"
   ]
  },
  {
   "cell_type": "code",
   "execution_count": 6,
   "metadata": {},
   "outputs": [],
   "source": [
    "#calculate the eigenvalues and the corresponding eigenvectors for SX.\n",
    "#no need to worry for complex eigenvalues as per Spectral Theorem, a real symmetric matrix only has real eigenvalues.\n",
    "#the eigenvalues are not necessarily ordered.\n",
    "eigenvalue, eigenvector = np.linalg.eig(SX)"
   ]
  },
  {
   "cell_type": "code",
   "execution_count": 7,
   "metadata": {},
   "outputs": [],
   "source": [
    "eigval_eigvec = list(zip(*sorted(zip(eigenvalue,eigenvector), reverse=True))) #order eigenvalues in a descending manner."
   ]
  },
  {
   "cell_type": "code",
   "execution_count": 8,
   "metadata": {},
   "outputs": [],
   "source": [
    "principal_components = np.asarray(list(eigval_eigvec[1][:])).T #this needs to be transposed to put each eigenvector in rows instead of columns"
   ]
  },
  {
   "cell_type": "code",
   "execution_count": 9,
   "metadata": {},
   "outputs": [],
   "source": [
    "P = principal_components[:q] # q x 12 matrix with q leading principal components in each row."
   ]
  },
  {
   "cell_type": "code",
   "execution_count": 10,
   "metadata": {
    "scrolled": true
   },
   "outputs": [
    {
     "data": {
      "text/plain": [
       "(5, 517)"
      ]
     },
     "execution_count": 10,
     "metadata": {},
     "output_type": "execute_result"
    }
   ],
   "source": [
    "Y = np.dot(P, X) #transform X using P to get the reconstructed data points\n",
    "Y.shape # the reconstructed data matrix shape"
   ]
  },
  {
   "cell_type": "code",
   "execution_count": 11,
   "metadata": {},
   "outputs": [
    {
     "name": "stdout",
     "output_type": "stream",
     "text": [
      "The total loss of PCA is :  0.037985574963925774 %\n"
     ]
    }
   ],
   "source": [
    "variance_loss = sum(eigval_eigvec[0][q:]) #calculate the total loss\n",
    "total_variance = sum(eigval_eigvec[0][:]) #total variance\n",
    "print(\"The total loss of PCA is : \", (variance_loss/total_variance)*100, \"%\") #percentage of loss"
   ]
  },
  {
   "cell_type": "code",
   "execution_count": 12,
   "metadata": {},
   "outputs": [],
   "source": [
    "from sklearn.linear_model import LinearRegression #to compare the linear regression prediction on the original data points and the reconstructed data points.\n",
    "import datetime"
   ]
  },
  {
   "cell_type": "code",
   "execution_count": 13,
   "metadata": {},
   "outputs": [
    {
     "name": "stdout",
     "output_type": "stream",
     "text": [
      "The R2 coefficient is :  0.025350671349257503\n",
      "Total elapsed time :  0:00:00.002062\n"
     ]
    }
   ],
   "source": [
    "start_time = datetime.datetime.now()\n",
    "reg_original_data = LinearRegression().fit(X.T,label) #fit the original data with the label\n",
    "print(\"The R2 coefficient is : \", reg_original_data.score(X.T, label)) #calculate the R2 coefficient on the training data itself\n",
    "end_time = datetime.datetime.now()\n",
    "print(\"Total elapsed time : \", end_time - start_time)"
   ]
  },
  {
   "cell_type": "code",
   "execution_count": 14,
   "metadata": {},
   "outputs": [
    {
     "name": "stdout",
     "output_type": "stream",
     "text": [
      "The R2 coefficient is :  0.012739904147630043\n",
      "Total elapsed time :  0:00:00.001400\n"
     ]
    }
   ],
   "source": [
    "start_time = datetime.datetime.now()\n",
    "reg_pca_data = LinearRegression().fit(Y.T, label) #fit the reconstructed data points with the label\n",
    "print(\"The R2 coefficient is : \", reg_pca_data.score(Y.T, label)) # calculate the R2 coefficient with the training data itself \n",
    "end_time = datetime.datetime.now()\n",
    "print(\"Total elapsed time : \", end_time - start_time)"
   ]
  },
  {
   "cell_type": "code",
   "execution_count": 15,
   "metadata": {},
   "outputs": [],
   "source": [
    "'''\n",
    "it can be seen that even though the reconstructed data points has a lower R2 coefficient, it saves some time\n",
    "during the modelling of the linear regression. The time saved might be small for this example, but it makes a lot\n",
    "of difference when it comes to higher dimensional dataset and more complex modelling techniques. Linear Regression\n",
    "was just used for simplicity sake to show the working principles of PCA. That is, even though the dimension\n",
    "from the original data points has been reduced drastically, the reconstructed data points can still provide\n",
    "linear regression enough information to model the relationships between the dependent and independent variables.\n",
    "'''\n",
    "from sklearn.decomposition import PCA #using PCA from the sklearn "
   ]
  },
  {
   "cell_type": "code",
   "execution_count": 16,
   "metadata": {},
   "outputs": [
    {
     "data": {
      "text/plain": [
       "(5, 517)"
      ]
     },
     "execution_count": 16,
     "metadata": {},
     "output_type": "execute_result"
    }
   ],
   "source": [
    "pca = PCA(n_components=q)\n",
    "pca.fit(X.T)\n",
    "Y_2 = np.transpose(pca.transform(X.T))\n",
    "Y_2.shape"
   ]
  },
  {
   "cell_type": "code",
   "execution_count": 17,
   "metadata": {},
   "outputs": [
    {
     "name": "stdout",
     "output_type": "stream",
     "text": [
      "0.597090255567526\n"
     ]
    }
   ],
   "source": [
    "'''\n",
    "the difference between the principal components are not that much. Sklearn's PCA uses normalizations on the \n",
    "data, hence provides a slightly different result than my implementation.\n",
    "'''\n",
    "prin_comp_diff = sum(sum(pca.components_) - sum(P)) #difference between the principal components or my implementation and Sklearn's implementation\n",
    "print(prin_comp_diff)"
   ]
  },
  {
   "cell_type": "code",
   "execution_count": null,
   "metadata": {},
   "outputs": [],
   "source": []
  }
 ],
 "metadata": {
  "kernelspec": {
   "display_name": "spacex",
   "language": "python",
   "name": "spacex"
  },
  "language_info": {
   "codemirror_mode": {
    "name": "ipython",
    "version": 3
   },
   "file_extension": ".py",
   "mimetype": "text/x-python",
   "name": "python",
   "nbconvert_exporter": "python",
   "pygments_lexer": "ipython3",
   "version": "3.5.2"
  }
 },
 "nbformat": 4,
 "nbformat_minor": 2
}
